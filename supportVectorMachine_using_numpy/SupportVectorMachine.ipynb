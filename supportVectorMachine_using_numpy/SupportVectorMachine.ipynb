{
 "cells": [
  {
   "cell_type": "code",
   "execution_count": 24,
   "metadata": {},
   "outputs": [],
   "source": [
    "# importing numpy and matplotlib\n",
    "\n",
    "import numpy as np\n",
    "from matplotlib import pyplot as plt\n",
    "\n",
    "#printing graphs inline\n",
    "%matplotlib inline\n"
   ]
  },
  {
   "cell_type": "code",
   "execution_count": 25,
   "metadata": {},
   "outputs": [],
   "source": [
    "# Step -1 Define out data\n",
    "# input values X - value, Y- value  and Bias Term\n",
    "X = np.array([[-2,4,-1],[4,1, -1], [1,6, -1],[2, 4, -1], [6 , 2, -1]])\n",
    "\n",
    "# output labels\n",
    "Y = np.array([-1, -1, 1,1,1])"
   ]
  },
  {
   "cell_type": "code",
   "execution_count": 26,
   "metadata": {},
   "outputs": [
    {
     "name": "stdout",
     "output_type": "stream",
     "text": [
      "-2 4\n",
      "4 1\n",
      "1 6\n",
      "2 4\n",
      "6 2\n"
     ]
    },
    {
     "data": {
      "text/plain": [
       "[<matplotlib.lines.Line2D at 0xbf54adeeb8>]"
      ]
     },
     "execution_count": 26,
     "metadata": {},
     "output_type": "execute_result"
    },
    {
     "data": {
      "image/png": "[encoded data removed]",
      "text/plain": [
       "<matplotlib.figure.Figure at 0xbf54ade080>"
      ]
     },
     "metadata": {},
     "output_type": "display_data"
    }
   ],
   "source": [
    "# Plotting the data\n",
    "\n",
    "for d, sample in enumerate(X):\n",
    "    # plotting negative samples with '_' by converting x to enumuaration\n",
    "    \n",
    "    if d < 2:\n",
    "        print(sample[0], sample[1])\n",
    "        plt.scatter(sample[0], sample[1], s = 120, marker='_', linewidths = 2)\n",
    "    else:\n",
    "        print(sample[0], sample[1])\n",
    "        plt.scatter(sample[0], sample[1],s= 120, marker='+', linewidths = 2 )\n",
    "        \n",
    "#manually plotting a hyperplane by giving values (naive guess or child guess)\n",
    "plt.plot([-2,6],[6,0.5])"
   ]
  },
  {
   "cell_type": "code",
   "execution_count": 27,
   "metadata": {},
   "outputs": [],
   "source": [
    "# Loss function : What to minimize\n",
    "# Objective function: What to optimize ( In this case weights)\n",
    "# Hinge loss \n",
    "#     c(x, y, f(x)) = (1-y*f(x))+\n",
    "#\n",
    "#\n",
    "#     c(x, y, f(x)) =  0 --> y*f(x) >= 1\n",
    "#                   =  1 - y*f(x)  for other values\n",
    "#\n",
    "#     objective function = Regulizer + sum of loss\n",
    "#     regulizer = lambda * (Weights)^2\n",
    "#     lamdba = (1/ epochs)\n",
    "#     This will make the regulizer to make adjustments minimal as we are approching to global minima\n",
    "#     \n",
    "# To optimize the objective function we have to use derivates to find their rate of change \n",
    "# derivative of regulaizer  d/d(w) (lamdba * (w)^ 2) = 2* lamdba * W\n",
    "# derivaive of loss function d/d(w) (1 - y(x*w)) = 0 -- if y*f(x) >= 1 \n",
    "#                                               = - y*x -- inother case                          \n",
    "#\n",
    "# update rule to update weights\n",
    "#  updated weight = present weight +  learning_rate * (derivative of regulizer + derivative of weights)\n",
    "#  \n",
    "#  when y*f(x) < 1\n",
    "#  w = w + learning_rate(y*x - 2* lamdba * weights)\n",
    "#   \n",
    "#  when y*f(x) >= 1 \n",
    "#  w = w + learning_rate(-2 * lambda * weights)\n",
    "#                                         \n"
   ]
  },
  {
   "cell_type": "code",
   "execution_count": 28,
   "metadata": {},
   "outputs": [],
   "source": [
    "def svm_sgd_plot(X, Y):\n",
    "    # Initialize the weights to zerp\n",
    "    w = np.zeros (len(X[0]))\n",
    "    # The learning rate \n",
    "    eta = 1\n",
    "    # logging errors \n",
    "    errors = []\n",
    "    \n",
    "    # number of epochs\n",
    "    epochs = 100000\n",
    "    for epoch in range(1,100000):\n",
    "        #setting error to zero\n",
    "        error = 0\n",
    "        # iterating throught the dataset\n",
    "        for i, x in enumerate(X):\n",
    "            if ((Y[i] * np.dot(X[i],w)) < 1):\n",
    "                w = w + eta *(Y[i]*X[i] - (-2 * (1/epoch) * w))\n",
    "                error = 1\n",
    "            else:\n",
    "                w = w + eta *(-2 * (1/epoch) * w)\n",
    "        errors.append(error)\n",
    "        \n",
    "    #plotting the rate of errors we are getting as we are moving throught the epochs\n",
    "\n",
    "    plt.plot(errors, '|')\n",
    "    plt.ylim(0.5, 1.5)\n",
    "    plt.axes().set_yticklabels([])\n",
    "    plt.xlabel('Epoch')\n",
    "    plt.ylabel('Misclassified')\n",
    "    plt.show()\n",
    "     \n",
    "    # Returning updated weights     \n",
    "    return w"
   ]
  },
  {
   "cell_type": "code",
   "execution_count": null,
   "metadata": {},
   "outputs": [],
   "source": [
    "\n"
   ]
  },
  {
   "cell_type": "code",
   "execution_count": 29,
   "metadata": {},
   "outputs": [
    {
     "name": "stdout",
     "output_type": "stream",
     "text": [
      "-2 4\n",
      "4 1\n",
      "1 6\n",
      "2 4\n",
      "6 2\n"
     ]
    },
    {
     "data": {
      "image/png": "[encoded data removed]",
      "text/plain": [
       "<matplotlib.figure.Figure at 0xbf53a690b8>"
      ]
     },
     "metadata": {},
     "output_type": "display_data"
    }
   ],
   "source": [
    "# Testing the svm\n",
    "for d, sample in enumerate(X):\n",
    "    # plotting negative samples with '_' by converting x to enumuaration\n",
    "    \n",
    "    if d < 2:\n",
    "        print(sample[0], sample[1])\n",
    "        plt.scatter(sample[0], sample[1], s = 120, marker='_', linewidths = 2)\n",
    "    else:\n",
    "        print(sample[0], sample[1])\n",
    "        plt.scatter(sample[0], sample[1],s= 120, marker='+', linewidths = 2 )\n",
    "        \n",
    "    \n"
   ]
  },
  {
   "cell_type": "code",
   "execution_count": 30,
   "metadata": {},
   "outputs": [
    {
     "name": "stderr",
     "output_type": "stream",
     "text": [
      "C:\\Users\\Bharath\\AppData\\Local\\conda\\conda\\envs\\tensorflow\\lib\\site-packages\\matplotlib\\cbook\\deprecation.py:106: MatplotlibDeprecationWarning: Adding an axes using the same arguments as a previous axes currently reuses the earlier instance.  In a future version, a new instance will always be created and returned.  Meanwhile, this warning can be suppressed, and the future behavior ensured, by passing a unique label to each axes instance.\n",
      "  warnings.warn(message, mplDeprecation, stacklevel=1)\n"
     ]
    },
    {
     "data": {
      "image/png": "[encoded data removed]",
      "text/plain": [
       "<matplotlib.figure.Figure at 0xbf54cafda0>"
      ]
     },
     "metadata": {},
     "output_type": "display_data"
    }
   ],
   "source": [
    "w = svm_sgd_plot(X,Y)"
   ]
  },
  {
   "cell_type": "code",
   "execution_count": 31,
   "metadata": {},
   "outputs": [
    {
     "data": {
      "text/plain": [
       "<matplotlib.quiver.Quiver at 0xbf54b44828>"
      ]
     },
     "execution_count": 31,
     "metadata": {},
     "output_type": "execute_result"
    },
    {
     "data": {
      "image/png": "[encoded data removed]",
      "text/plain": [
       "<matplotlib.figure.Figure at 0xbf54b16a58>"
      ]
     },
     "metadata": {},
     "output_type": "display_data"
    }
   ],
   "source": [
    "# Add our test samples\n",
    "plt.scatter(2,2, s = 120, marker = '_', linewidths = 2 , color='yellow')\n",
    "plt.scatter(4,3, s = 120, marker = '+', linewidths = 2, color = 'blue')\n",
    "\n",
    "# printing the hyperplane \n",
    "#plotting the trained hyper plane\n",
    "\n",
    "x2 = [w[0], w[1], -w[1], w[0]]\n",
    "x3 = [w[0], w[1], w[1], -w[0]]\n",
    "\n",
    "x2x3 = np.array([x2, x3])\n",
    "X,Y,U,V = zip(*x2x3)\n",
    "ax = plt.gca()\n",
    "ax.quiver(X,Y,U,V, scale=1, color = 'blue')"
   ]
  },
  {
   "cell_type": "code",
   "execution_count": null,
   "metadata": {},
   "outputs": [],
   "source": []
  },
  {
   "cell_type": "code",
   "execution_count": null,
   "metadata": {},
   "outputs": [],
   "source": []
  }
 ],
 "metadata": {
  "kernelspec": {
   "display_name": "Python 3",
   "language": "python",
   "name": "python3"
  }
 },
 "nbformat": 4,
 "nbformat_minor": 2
}
